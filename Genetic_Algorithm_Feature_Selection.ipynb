{
 "cells": [
  {
   "cell_type": "markdown",
   "id": "343d1409",
   "metadata": {},
   "source": [
    "## Genetic Algorithm For Finding Relevant Feature For Different Models."
   ]
  },
  {
   "cell_type": "code",
   "execution_count": 20,
   "id": "075944bf",
   "metadata": {},
   "outputs": [],
   "source": [
    "import numpy as np\n",
    "import pandas as pd\n",
    "import seaborn as sns\n",
    "import matplotlib.pyplot as plt\n",
    "from random import randint\n",
    "from sklearn.metrics import roc_curve, auc\n",
    "%matplotlib inline \n",
    "import warnings\n",
    "warnings.filterwarnings(\"ignore\")\n",
    "from sklearn.metrics import roc_curve, auc\n",
    "\n",
    "\n",
    "from sklearn.model_selection import train_test_split\n",
    "def split(df,label):\n",
    "    X_tr, X_te, Y_tr, Y_te = train_test_split(df, label, test_size=0.25, random_state=42)\n",
    "    return X_tr, X_te, Y_tr, Y_te\n",
    "from sklearn import svm\n",
    "from sklearn.linear_model import LogisticRegression\n",
    "from sklearn.ensemble import RandomForestClassifier, AdaBoostClassifier\n",
    "from sklearn.tree import DecisionTreeClassifier\n",
    "from sklearn.neighbors import KNeighborsClassifier\n",
    "from sklearn.ensemble import GradientBoostingClassifier\n",
    "from sklearn import metrics\n",
    "from sklearn.metrics import accuracy_score\n",
    "from sklearn.model_selection import KFold, cross_val_score\n",
    "\n",
    "\n",
    "classifiers = ['LinearSVM', 'RadialSVM', \n",
    "               'Logistic',  'RandomForest', \n",
    "               'AdaBoost',  'DecisionTree', \n",
    "               'KNeighbors','GradientBoosting']\n",
    "\n",
    "models = [svm.SVC(kernel='linear'),\n",
    "          svm.SVC(kernel='rbf'),\n",
    "          LogisticRegression(max_iter = 1000),\n",
    "          RandomForestClassifier(n_estimators=200, random_state=0),\n",
    "          AdaBoostClassifier(random_state = 0),\n",
    "          DecisionTreeClassifier(random_state=0),\n",
    "          KNeighborsClassifier(),\n",
    "          GradientBoostingClassifier(random_state=0)]\n",
    "\n",
    "\n",
    "def acc_score(df,label):\n",
    "    Score = pd.DataFrame({\"Classifier\":classifiers})\n",
    "    j = 0\n",
    "    acc = []\n",
    "    X_train,X_test,Y_train,Y_test = split(df,label)\n",
    "    for i in models:\n",
    "        model = i\n",
    "        model.fit(X_train,Y_train)\n",
    "        predictions = model.predict(X_test)\n",
    "        acc.append(accuracy_score(Y_test,predictions))\n",
    "        j = j+1     \n",
    "    Score[\"Accuracy\"] = acc\n",
    "    Score.sort_values(by=\"Accuracy\", ascending=False,inplace = True)\n",
    "    Score.reset_index(drop=True, inplace=True)\n",
    "    return Score\n",
    "\n",
    "\n",
    "def plot(score,x,y,c = \"b\"):\n",
    "    gen = [1,2,3,4,5]\n",
    "    plt.figure(figsize=(6,4))\n",
    "    ax = sns.pointplot(x=gen, y=score,color = c )\n",
    "    ax.set(xlabel=\"Generation\", ylabel=\"Accuracy\")\n",
    "    ax.set(ylim=(x,y))"
   ]
  },
  {
   "cell_type": "code",
   "execution_count": 21,
   "id": "5f2e6dcd",
   "metadata": {},
   "outputs": [],
   "source": [
    "def initilization_of_population(size,n_feat):\n",
    "    population = []\n",
    "    for i in range(size):\n",
    "        chromosome = np.ones(n_feat,dtype=np.bool)     \n",
    "        chromosome[:int(0.3*n_feat)]=False             \n",
    "        np.random.shuffle(chromosome)\n",
    "        population.append(chromosome)\n",
    "    return population\n",
    "\n",
    "def fitness_score(population):\n",
    "    scores = []\n",
    "    for chromosome in population:\n",
    "        logmodel.fit(X_train.iloc[:,chromosome],Y_train)         \n",
    "        predictions = logmodel.predict(X_test.iloc[:,chromosome])\n",
    "        scores.append(accuracy_score(Y_test,predictions))\n",
    "    scores, population = np.array(scores), np.array(population) \n",
    "    inds = np.argsort(scores)  \n",
    "    return list(scores[inds][::-1]), list(population[inds,:][::-1]) \n",
    "\n",
    "def selection(pop_after_fit,n_parents):\n",
    "    population_nextgen = []\n",
    "    for i in range(n_parents):\n",
    "        population_nextgen.append(pop_after_fit[i])\n",
    "    print(population_nextgen[-1])\n",
    "    return population_nextgen\n",
    "\n",
    "def crossover(pop_after_sel):\n",
    "    pop_nextgen = pop_after_sel\n",
    "    for i in range(0,len(pop_after_sel),2):\n",
    "        new_par = []\n",
    "        child_1 , child_2 = pop_nextgen[i] , pop_nextgen[i+1]\n",
    "        new_par = np.concatenate((child_1[:len(child_1)//2],child_2[len(child_1)//2:]))\n",
    "        pop_nextgen.append(new_par)\n",
    "    return pop_nextgen\n",
    "\n",
    "def mutation(pop_after_cross,mutation_rate,n_feat):   \n",
    "    mutation_range = int(mutation_rate*n_feat)\n",
    "    pop_next_gen = []\n",
    "    for n in range(0,len(pop_after_cross)):\n",
    "        chromo = pop_after_cross[n]\n",
    "        rand_posi = [] \n",
    "        for i in range(0,mutation_range):\n",
    "            pos = randint(0,n_feat-1)\n",
    "            rand_posi.append(pos)\n",
    "        for j in rand_posi:\n",
    "            chromo[j] = not chromo[j]  \n",
    "        pop_next_gen.append(chromo)\n",
    "    return pop_next_gen\n",
    "\n",
    "def generations(df,label,size,n_feat,n_parents,mutation_rate,n_gen,X_train,\n",
    "                                   X_test, Y_train, Y_test):\n",
    "    best_chromo= []\n",
    "    best_score= []\n",
    "    population_nextgen=initilization_of_population(size,n_feat)\n",
    "    for i in range(n_gen):\n",
    "        scores, pop_after_fit = fitness_score(population_nextgen)\n",
    "        print('Best score in generation',i+1,':',scores[:1])  #2\n",
    "        pop_after_sel = selection(pop_after_fit,n_parents)\n",
    "        pop_after_cross = crossover(pop_after_sel)\n",
    "        population_nextgen = mutation(pop_after_cross,mutation_rate,n_feat)\n",
    "        best_chromo.append(pop_after_fit[0])\n",
    "        best_score.append(scores[0])\n",
    "    return best_chromo,best_score"
   ]
  },
  {
   "cell_type": "code",
   "execution_count": 3,
   "id": "9a6b47cd",
   "metadata": {
    "scrolled": true
   },
   "outputs": [
    {
     "name": "stdout",
     "output_type": "stream",
     "text": [
      "Breast Cancer dataset:\n",
      " 569 Records\n",
      " 30 Features\n"
     ]
    }
   ],
   "source": [
    "data_bc = pd.read_csv(\"data.csv\")\n",
    "label_bc = data_bc[\"diagnosis\"]\n",
    "label_bc = np.where(label_bc == 'M',1,0)\n",
    "data_bc.drop([\"id\",\"diagnosis\",\"Unnamed: 32\"],axis = 1,inplace = True)\n",
    "\n",
    "print(\"Breast Cancer dataset:\\n\",data_bc.shape[0],\"Records\\n\",data_bc.shape[1],\"Features\")"
   ]
  },
  {
   "cell_type": "code",
   "execution_count": 4,
   "id": "337079c1",
   "metadata": {},
   "outputs": [
    {
     "name": "stdout",
     "output_type": "stream",
     "text": [
      "<class 'pandas.core.frame.DataFrame'>\n",
      "RangeIndex: 569 entries, 0 to 568\n",
      "Data columns (total 30 columns):\n",
      " #   Column                   Non-Null Count  Dtype  \n",
      "---  ------                   --------------  -----  \n",
      " 0   radius_mean              569 non-null    float64\n",
      " 1   texture_mean             569 non-null    float64\n",
      " 2   perimeter_mean           569 non-null    float64\n",
      " 3   area_mean                569 non-null    float64\n",
      " 4   smoothness_mean          569 non-null    float64\n",
      " 5   compactness_mean         569 non-null    float64\n",
      " 6   concavity_mean           569 non-null    float64\n",
      " 7   concave points_mean      569 non-null    float64\n",
      " 8   symmetry_mean            569 non-null    float64\n",
      " 9   fractal_dimension_mean   569 non-null    float64\n",
      " 10  radius_se                569 non-null    float64\n",
      " 11  texture_se               569 non-null    float64\n",
      " 12  perimeter_se             569 non-null    float64\n",
      " 13  area_se                  569 non-null    float64\n",
      " 14  smoothness_se            569 non-null    float64\n",
      " 15  compactness_se           569 non-null    float64\n",
      " 16  concavity_se             569 non-null    float64\n",
      " 17  concave points_se        569 non-null    float64\n",
      " 18  symmetry_se              569 non-null    float64\n",
      " 19  fractal_dimension_se     569 non-null    float64\n",
      " 20  radius_worst             569 non-null    float64\n",
      " 21  texture_worst            569 non-null    float64\n",
      " 22  perimeter_worst          569 non-null    float64\n",
      " 23  area_worst               569 non-null    float64\n",
      " 24  smoothness_worst         569 non-null    float64\n",
      " 25  compactness_worst        569 non-null    float64\n",
      " 26  concavity_worst          569 non-null    float64\n",
      " 27  concave points_worst     569 non-null    float64\n",
      " 28  symmetry_worst           569 non-null    float64\n",
      " 29  fractal_dimension_worst  569 non-null    float64\n",
      "dtypes: float64(30)\n",
      "memory usage: 133.5 KB\n"
     ]
    }
   ],
   "source": [
    "data_bc.info()"
   ]
  },
  {
   "cell_type": "code",
   "execution_count": 5,
   "id": "3e23610b",
   "metadata": {
    "scrolled": true
   },
   "outputs": [
    {
     "data": {
      "text/html": [
       "<div>\n",
       "<style scoped>\n",
       "    .dataframe tbody tr th:only-of-type {\n",
       "        vertical-align: middle;\n",
       "    }\n",
       "\n",
       "    .dataframe tbody tr th {\n",
       "        vertical-align: top;\n",
       "    }\n",
       "\n",
       "    .dataframe thead th {\n",
       "        text-align: right;\n",
       "    }\n",
       "</style>\n",
       "<table border=\"1\" class=\"dataframe\">\n",
       "  <thead>\n",
       "    <tr style=\"text-align: right;\">\n",
       "      <th></th>\n",
       "      <th>radius_mean</th>\n",
       "      <th>texture_mean</th>\n",
       "      <th>perimeter_mean</th>\n",
       "      <th>area_mean</th>\n",
       "      <th>smoothness_mean</th>\n",
       "      <th>compactness_mean</th>\n",
       "      <th>concavity_mean</th>\n",
       "      <th>concave points_mean</th>\n",
       "      <th>symmetry_mean</th>\n",
       "      <th>fractal_dimension_mean</th>\n",
       "      <th>...</th>\n",
       "      <th>radius_worst</th>\n",
       "      <th>texture_worst</th>\n",
       "      <th>perimeter_worst</th>\n",
       "      <th>area_worst</th>\n",
       "      <th>smoothness_worst</th>\n",
       "      <th>compactness_worst</th>\n",
       "      <th>concavity_worst</th>\n",
       "      <th>concave points_worst</th>\n",
       "      <th>symmetry_worst</th>\n",
       "      <th>fractal_dimension_worst</th>\n",
       "    </tr>\n",
       "  </thead>\n",
       "  <tbody>\n",
       "    <tr>\n",
       "      <th>0</th>\n",
       "      <td>17.99</td>\n",
       "      <td>10.38</td>\n",
       "      <td>122.80</td>\n",
       "      <td>1001.0</td>\n",
       "      <td>0.11840</td>\n",
       "      <td>0.27760</td>\n",
       "      <td>0.3001</td>\n",
       "      <td>0.14710</td>\n",
       "      <td>0.2419</td>\n",
       "      <td>0.07871</td>\n",
       "      <td>...</td>\n",
       "      <td>25.38</td>\n",
       "      <td>17.33</td>\n",
       "      <td>184.60</td>\n",
       "      <td>2019.0</td>\n",
       "      <td>0.1622</td>\n",
       "      <td>0.6656</td>\n",
       "      <td>0.7119</td>\n",
       "      <td>0.2654</td>\n",
       "      <td>0.4601</td>\n",
       "      <td>0.11890</td>\n",
       "    </tr>\n",
       "    <tr>\n",
       "      <th>1</th>\n",
       "      <td>20.57</td>\n",
       "      <td>17.77</td>\n",
       "      <td>132.90</td>\n",
       "      <td>1326.0</td>\n",
       "      <td>0.08474</td>\n",
       "      <td>0.07864</td>\n",
       "      <td>0.0869</td>\n",
       "      <td>0.07017</td>\n",
       "      <td>0.1812</td>\n",
       "      <td>0.05667</td>\n",
       "      <td>...</td>\n",
       "      <td>24.99</td>\n",
       "      <td>23.41</td>\n",
       "      <td>158.80</td>\n",
       "      <td>1956.0</td>\n",
       "      <td>0.1238</td>\n",
       "      <td>0.1866</td>\n",
       "      <td>0.2416</td>\n",
       "      <td>0.1860</td>\n",
       "      <td>0.2750</td>\n",
       "      <td>0.08902</td>\n",
       "    </tr>\n",
       "    <tr>\n",
       "      <th>2</th>\n",
       "      <td>19.69</td>\n",
       "      <td>21.25</td>\n",
       "      <td>130.00</td>\n",
       "      <td>1203.0</td>\n",
       "      <td>0.10960</td>\n",
       "      <td>0.15990</td>\n",
       "      <td>0.1974</td>\n",
       "      <td>0.12790</td>\n",
       "      <td>0.2069</td>\n",
       "      <td>0.05999</td>\n",
       "      <td>...</td>\n",
       "      <td>23.57</td>\n",
       "      <td>25.53</td>\n",
       "      <td>152.50</td>\n",
       "      <td>1709.0</td>\n",
       "      <td>0.1444</td>\n",
       "      <td>0.4245</td>\n",
       "      <td>0.4504</td>\n",
       "      <td>0.2430</td>\n",
       "      <td>0.3613</td>\n",
       "      <td>0.08758</td>\n",
       "    </tr>\n",
       "    <tr>\n",
       "      <th>3</th>\n",
       "      <td>11.42</td>\n",
       "      <td>20.38</td>\n",
       "      <td>77.58</td>\n",
       "      <td>386.1</td>\n",
       "      <td>0.14250</td>\n",
       "      <td>0.28390</td>\n",
       "      <td>0.2414</td>\n",
       "      <td>0.10520</td>\n",
       "      <td>0.2597</td>\n",
       "      <td>0.09744</td>\n",
       "      <td>...</td>\n",
       "      <td>14.91</td>\n",
       "      <td>26.50</td>\n",
       "      <td>98.87</td>\n",
       "      <td>567.7</td>\n",
       "      <td>0.2098</td>\n",
       "      <td>0.8663</td>\n",
       "      <td>0.6869</td>\n",
       "      <td>0.2575</td>\n",
       "      <td>0.6638</td>\n",
       "      <td>0.17300</td>\n",
       "    </tr>\n",
       "    <tr>\n",
       "      <th>4</th>\n",
       "      <td>20.29</td>\n",
       "      <td>14.34</td>\n",
       "      <td>135.10</td>\n",
       "      <td>1297.0</td>\n",
       "      <td>0.10030</td>\n",
       "      <td>0.13280</td>\n",
       "      <td>0.1980</td>\n",
       "      <td>0.10430</td>\n",
       "      <td>0.1809</td>\n",
       "      <td>0.05883</td>\n",
       "      <td>...</td>\n",
       "      <td>22.54</td>\n",
       "      <td>16.67</td>\n",
       "      <td>152.20</td>\n",
       "      <td>1575.0</td>\n",
       "      <td>0.1374</td>\n",
       "      <td>0.2050</td>\n",
       "      <td>0.4000</td>\n",
       "      <td>0.1625</td>\n",
       "      <td>0.2364</td>\n",
       "      <td>0.07678</td>\n",
       "    </tr>\n",
       "  </tbody>\n",
       "</table>\n",
       "<p>5 rows × 30 columns</p>\n",
       "</div>"
      ],
      "text/plain": [
       "   radius_mean  texture_mean  perimeter_mean  area_mean  smoothness_mean  \\\n",
       "0        17.99         10.38          122.80     1001.0          0.11840   \n",
       "1        20.57         17.77          132.90     1326.0          0.08474   \n",
       "2        19.69         21.25          130.00     1203.0          0.10960   \n",
       "3        11.42         20.38           77.58      386.1          0.14250   \n",
       "4        20.29         14.34          135.10     1297.0          0.10030   \n",
       "\n",
       "   compactness_mean  concavity_mean  concave points_mean  symmetry_mean  \\\n",
       "0           0.27760          0.3001              0.14710         0.2419   \n",
       "1           0.07864          0.0869              0.07017         0.1812   \n",
       "2           0.15990          0.1974              0.12790         0.2069   \n",
       "3           0.28390          0.2414              0.10520         0.2597   \n",
       "4           0.13280          0.1980              0.10430         0.1809   \n",
       "\n",
       "   fractal_dimension_mean  ...  radius_worst  texture_worst  perimeter_worst  \\\n",
       "0                 0.07871  ...         25.38          17.33           184.60   \n",
       "1                 0.05667  ...         24.99          23.41           158.80   \n",
       "2                 0.05999  ...         23.57          25.53           152.50   \n",
       "3                 0.09744  ...         14.91          26.50            98.87   \n",
       "4                 0.05883  ...         22.54          16.67           152.20   \n",
       "\n",
       "   area_worst  smoothness_worst  compactness_worst  concavity_worst  \\\n",
       "0      2019.0            0.1622             0.6656           0.7119   \n",
       "1      1956.0            0.1238             0.1866           0.2416   \n",
       "2      1709.0            0.1444             0.4245           0.4504   \n",
       "3       567.7            0.2098             0.8663           0.6869   \n",
       "4      1575.0            0.1374             0.2050           0.4000   \n",
       "\n",
       "   concave points_worst  symmetry_worst  fractal_dimension_worst  \n",
       "0                0.2654          0.4601                  0.11890  \n",
       "1                0.1860          0.2750                  0.08902  \n",
       "2                0.2430          0.3613                  0.08758  \n",
       "3                0.2575          0.6638                  0.17300  \n",
       "4                0.1625          0.2364                  0.07678  \n",
       "\n",
       "[5 rows x 30 columns]"
      ]
     },
     "metadata": {},
     "output_type": "display_data"
    },
    {
     "name": "stdout",
     "output_type": "stream",
     "text": [
      "All the features in this dataset have continuous values\n"
     ]
    }
   ],
   "source": [
    "display(data_bc.head())\n",
    "print(\"All the features in this dataset have continuous values\")"
   ]
  },
  {
   "cell_type": "code",
   "execution_count": 6,
   "id": "67ed4f65",
   "metadata": {
    "scrolled": true
   },
   "outputs": [
    {
     "data": {
      "text/html": [
       "<div>\n",
       "<style scoped>\n",
       "    .dataframe tbody tr th:only-of-type {\n",
       "        vertical-align: middle;\n",
       "    }\n",
       "\n",
       "    .dataframe tbody tr th {\n",
       "        vertical-align: top;\n",
       "    }\n",
       "\n",
       "    .dataframe thead th {\n",
       "        text-align: right;\n",
       "    }\n",
       "</style>\n",
       "<table border=\"1\" class=\"dataframe\">\n",
       "  <thead>\n",
       "    <tr style=\"text-align: right;\">\n",
       "      <th></th>\n",
       "      <th>Classifier</th>\n",
       "      <th>Accuracy</th>\n",
       "    </tr>\n",
       "  </thead>\n",
       "  <tbody>\n",
       "    <tr>\n",
       "      <th>0</th>\n",
       "      <td>RandomForest</td>\n",
       "      <td>0.972028</td>\n",
       "    </tr>\n",
       "    <tr>\n",
       "      <th>1</th>\n",
       "      <td>Logistic</td>\n",
       "      <td>0.965035</td>\n",
       "    </tr>\n",
       "    <tr>\n",
       "      <th>2</th>\n",
       "      <td>KNeighbors</td>\n",
       "      <td>0.965035</td>\n",
       "    </tr>\n",
       "    <tr>\n",
       "      <th>3</th>\n",
       "      <td>LinearSVM</td>\n",
       "      <td>0.958042</td>\n",
       "    </tr>\n",
       "    <tr>\n",
       "      <th>4</th>\n",
       "      <td>GradientBoosting</td>\n",
       "      <td>0.958042</td>\n",
       "    </tr>\n",
       "    <tr>\n",
       "      <th>5</th>\n",
       "      <td>RadialSVM</td>\n",
       "      <td>0.951049</td>\n",
       "    </tr>\n",
       "    <tr>\n",
       "      <th>6</th>\n",
       "      <td>AdaBoost</td>\n",
       "      <td>0.951049</td>\n",
       "    </tr>\n",
       "    <tr>\n",
       "      <th>7</th>\n",
       "      <td>DecisionTree</td>\n",
       "      <td>0.930070</td>\n",
       "    </tr>\n",
       "  </tbody>\n",
       "</table>\n",
       "</div>"
      ],
      "text/plain": [
       "         Classifier  Accuracy\n",
       "0      RandomForest  0.972028\n",
       "1          Logistic  0.965035\n",
       "2        KNeighbors  0.965035\n",
       "3         LinearSVM  0.958042\n",
       "4  GradientBoosting  0.958042\n",
       "5         RadialSVM  0.951049\n",
       "6          AdaBoost  0.951049\n",
       "7      DecisionTree  0.930070"
      ]
     },
     "execution_count": 6,
     "metadata": {},
     "output_type": "execute_result"
    }
   ],
   "source": [
    "score1 = acc_score(data_bc,label_bc)\n",
    "score1"
   ]
  },
  {
   "cell_type": "code",
   "execution_count": 7,
   "id": "bbcfb4ae",
   "metadata": {
    "scrolled": true
   },
   "outputs": [
    {
     "name": "stdout",
     "output_type": "stream",
     "text": [
      "Best score in generation 1 : [0.986013986013986]\n",
      "[ True  True  True  True  True  True  True False False False  True  True\n",
      "  True  True  True  True False  True False  True False False  True  True\n",
      "  True False  True  True False  True]\n",
      "Best score in generation 2 : [0.993006993006993]\n",
      "[ True  True  True False  True False  True False  True False  True  True\n",
      "  True False  True False  True  True  True False False False  True  True\n",
      "  True  True False  True False  True]\n",
      "Best score in generation 3 : [0.986013986013986]\n",
      "[ True  True False  True  True  True  True  True False False False  True\n",
      " False  True False  True False  True  True False False False False  True\n",
      " False False  True  True  True False]\n",
      "Best score in generation 4 : [0.993006993006993]\n",
      "[ True  True False  True False  True False False False False False False\n",
      " False False  True False  True  True  True  True False  True False  True\n",
      " False  True  True False False False]\n",
      "Best score in generation 5 : [0.993006993006993]\n",
      "[False  True False False False False  True False False  True  True False\n",
      " False False  True  True False  True False  True  True  True  True  True\n",
      "  True  True  True  True False  True]\n"
     ]
    }
   ],
   "source": [
    "logmodel = RandomForestClassifier(n_estimators=200, random_state=0)\n",
    "X_train,X_test, Y_train, Y_test = split(data_bc,label_bc)\n",
    "chromo_df_bc,score_bc1=generations(data_bc,label_bc,size=80,n_feat=data_bc.shape[1],n_parents=64,mutation_rate=0.20,n_gen=5,\n",
    "                         X_train = X_train,X_test = X_test,Y_train = Y_train,Y_test = Y_test)"
   ]
  },
  {
   "cell_type": "code",
   "execution_count": 8,
   "id": "d8c74b5e",
   "metadata": {},
   "outputs": [
    {
     "data": {
      "text/html": [
       "<div>\n",
       "<style scoped>\n",
       "    .dataframe tbody tr th:only-of-type {\n",
       "        vertical-align: middle;\n",
       "    }\n",
       "\n",
       "    .dataframe tbody tr th {\n",
       "        vertical-align: top;\n",
       "    }\n",
       "\n",
       "    .dataframe thead th {\n",
       "        text-align: right;\n",
       "    }\n",
       "</style>\n",
       "<table border=\"1\" class=\"dataframe\">\n",
       "  <thead>\n",
       "    <tr style=\"text-align: right;\">\n",
       "      <th></th>\n",
       "      <th>radius_mean</th>\n",
       "      <th>texture_mean</th>\n",
       "      <th>perimeter_mean</th>\n",
       "      <th>area_mean</th>\n",
       "      <th>smoothness_mean</th>\n",
       "      <th>compactness_mean</th>\n",
       "      <th>concavity_mean</th>\n",
       "      <th>concave points_mean</th>\n",
       "      <th>symmetry_mean</th>\n",
       "      <th>fractal_dimension_mean</th>\n",
       "      <th>...</th>\n",
       "      <th>radius_worst</th>\n",
       "      <th>texture_worst</th>\n",
       "      <th>perimeter_worst</th>\n",
       "      <th>area_worst</th>\n",
       "      <th>smoothness_worst</th>\n",
       "      <th>compactness_worst</th>\n",
       "      <th>concavity_worst</th>\n",
       "      <th>concave points_worst</th>\n",
       "      <th>symmetry_worst</th>\n",
       "      <th>fractal_dimension_worst</th>\n",
       "    </tr>\n",
       "  </thead>\n",
       "  <tbody>\n",
       "    <tr>\n",
       "      <th>0</th>\n",
       "      <td>17.99</td>\n",
       "      <td>10.38</td>\n",
       "      <td>122.80</td>\n",
       "      <td>1001.0</td>\n",
       "      <td>0.11840</td>\n",
       "      <td>0.27760</td>\n",
       "      <td>0.3001</td>\n",
       "      <td>0.14710</td>\n",
       "      <td>0.2419</td>\n",
       "      <td>0.07871</td>\n",
       "      <td>...</td>\n",
       "      <td>25.38</td>\n",
       "      <td>17.33</td>\n",
       "      <td>184.60</td>\n",
       "      <td>2019.0</td>\n",
       "      <td>0.1622</td>\n",
       "      <td>0.6656</td>\n",
       "      <td>0.7119</td>\n",
       "      <td>0.2654</td>\n",
       "      <td>0.4601</td>\n",
       "      <td>0.11890</td>\n",
       "    </tr>\n",
       "    <tr>\n",
       "      <th>1</th>\n",
       "      <td>20.57</td>\n",
       "      <td>17.77</td>\n",
       "      <td>132.90</td>\n",
       "      <td>1326.0</td>\n",
       "      <td>0.08474</td>\n",
       "      <td>0.07864</td>\n",
       "      <td>0.0869</td>\n",
       "      <td>0.07017</td>\n",
       "      <td>0.1812</td>\n",
       "      <td>0.05667</td>\n",
       "      <td>...</td>\n",
       "      <td>24.99</td>\n",
       "      <td>23.41</td>\n",
       "      <td>158.80</td>\n",
       "      <td>1956.0</td>\n",
       "      <td>0.1238</td>\n",
       "      <td>0.1866</td>\n",
       "      <td>0.2416</td>\n",
       "      <td>0.1860</td>\n",
       "      <td>0.2750</td>\n",
       "      <td>0.08902</td>\n",
       "    </tr>\n",
       "    <tr>\n",
       "      <th>2</th>\n",
       "      <td>19.69</td>\n",
       "      <td>21.25</td>\n",
       "      <td>130.00</td>\n",
       "      <td>1203.0</td>\n",
       "      <td>0.10960</td>\n",
       "      <td>0.15990</td>\n",
       "      <td>0.1974</td>\n",
       "      <td>0.12790</td>\n",
       "      <td>0.2069</td>\n",
       "      <td>0.05999</td>\n",
       "      <td>...</td>\n",
       "      <td>23.57</td>\n",
       "      <td>25.53</td>\n",
       "      <td>152.50</td>\n",
       "      <td>1709.0</td>\n",
       "      <td>0.1444</td>\n",
       "      <td>0.4245</td>\n",
       "      <td>0.4504</td>\n",
       "      <td>0.2430</td>\n",
       "      <td>0.3613</td>\n",
       "      <td>0.08758</td>\n",
       "    </tr>\n",
       "    <tr>\n",
       "      <th>3</th>\n",
       "      <td>11.42</td>\n",
       "      <td>20.38</td>\n",
       "      <td>77.58</td>\n",
       "      <td>386.1</td>\n",
       "      <td>0.14250</td>\n",
       "      <td>0.28390</td>\n",
       "      <td>0.2414</td>\n",
       "      <td>0.10520</td>\n",
       "      <td>0.2597</td>\n",
       "      <td>0.09744</td>\n",
       "      <td>...</td>\n",
       "      <td>14.91</td>\n",
       "      <td>26.50</td>\n",
       "      <td>98.87</td>\n",
       "      <td>567.7</td>\n",
       "      <td>0.2098</td>\n",
       "      <td>0.8663</td>\n",
       "      <td>0.6869</td>\n",
       "      <td>0.2575</td>\n",
       "      <td>0.6638</td>\n",
       "      <td>0.17300</td>\n",
       "    </tr>\n",
       "    <tr>\n",
       "      <th>4</th>\n",
       "      <td>20.29</td>\n",
       "      <td>14.34</td>\n",
       "      <td>135.10</td>\n",
       "      <td>1297.0</td>\n",
       "      <td>0.10030</td>\n",
       "      <td>0.13280</td>\n",
       "      <td>0.1980</td>\n",
       "      <td>0.10430</td>\n",
       "      <td>0.1809</td>\n",
       "      <td>0.05883</td>\n",
       "      <td>...</td>\n",
       "      <td>22.54</td>\n",
       "      <td>16.67</td>\n",
       "      <td>152.20</td>\n",
       "      <td>1575.0</td>\n",
       "      <td>0.1374</td>\n",
       "      <td>0.2050</td>\n",
       "      <td>0.4000</td>\n",
       "      <td>0.1625</td>\n",
       "      <td>0.2364</td>\n",
       "      <td>0.07678</td>\n",
       "    </tr>\n",
       "  </tbody>\n",
       "</table>\n",
       "<p>5 rows × 30 columns</p>\n",
       "</div>"
      ],
      "text/plain": [
       "   radius_mean  texture_mean  perimeter_mean  area_mean  smoothness_mean  \\\n",
       "0        17.99         10.38          122.80     1001.0          0.11840   \n",
       "1        20.57         17.77          132.90     1326.0          0.08474   \n",
       "2        19.69         21.25          130.00     1203.0          0.10960   \n",
       "3        11.42         20.38           77.58      386.1          0.14250   \n",
       "4        20.29         14.34          135.10     1297.0          0.10030   \n",
       "\n",
       "   compactness_mean  concavity_mean  concave points_mean  symmetry_mean  \\\n",
       "0           0.27760          0.3001              0.14710         0.2419   \n",
       "1           0.07864          0.0869              0.07017         0.1812   \n",
       "2           0.15990          0.1974              0.12790         0.2069   \n",
       "3           0.28390          0.2414              0.10520         0.2597   \n",
       "4           0.13280          0.1980              0.10430         0.1809   \n",
       "\n",
       "   fractal_dimension_mean  ...  radius_worst  texture_worst  perimeter_worst  \\\n",
       "0                 0.07871  ...         25.38          17.33           184.60   \n",
       "1                 0.05667  ...         24.99          23.41           158.80   \n",
       "2                 0.05999  ...         23.57          25.53           152.50   \n",
       "3                 0.09744  ...         14.91          26.50            98.87   \n",
       "4                 0.05883  ...         22.54          16.67           152.20   \n",
       "\n",
       "   area_worst  smoothness_worst  compactness_worst  concavity_worst  \\\n",
       "0      2019.0            0.1622             0.6656           0.7119   \n",
       "1      1956.0            0.1238             0.1866           0.2416   \n",
       "2      1709.0            0.1444             0.4245           0.4504   \n",
       "3       567.7            0.2098             0.8663           0.6869   \n",
       "4      1575.0            0.1374             0.2050           0.4000   \n",
       "\n",
       "   concave points_worst  symmetry_worst  fractal_dimension_worst  \n",
       "0                0.2654          0.4601                  0.11890  \n",
       "1                0.1860          0.2750                  0.08902  \n",
       "2                0.2430          0.3613                  0.08758  \n",
       "3                0.2575          0.6638                  0.17300  \n",
       "4                0.1625          0.2364                  0.07678  \n",
       "\n",
       "[5 rows x 30 columns]"
      ]
     },
     "execution_count": 8,
     "metadata": {},
     "output_type": "execute_result"
    }
   ],
   "source": [
    "data_copy=data_bc.copy(deep=True)\n",
    "data_copy.head()"
   ]
  },
  {
   "cell_type": "code",
   "execution_count": 9,
   "id": "4723ea44",
   "metadata": {
    "scrolled": false
   },
   "outputs": [
    {
     "name": "stdout",
     "output_type": "stream",
     "text": [
      "Best score in generation 1 : [0.993006993006993]\n",
      "[ True  True  True False False  True False  True  True  True  True  True\n",
      " False  True  True False  True  True  True  True  True  True False  True\n",
      "  True False False  True  True False]\n",
      "Best score in generation 2 : [0.993006993006993]\n",
      "[ True False False  True  True False  True False False False False  True\n",
      " False False  True False False  True  True  True False  True False  True\n",
      " False  True  True  True False  True]\n",
      "Best score in generation 3 : [0.993006993006993]\n",
      "[ True False False  True  True  True  True  True False  True False  True\n",
      " False False  True  True  True  True  True  True  True  True False False\n",
      "  True False False  True  True False]\n",
      "Best score in generation 4 : [0.993006993006993]\n",
      "[ True  True  True  True False  True  True  True  True  True False False\n",
      "  True False  True False  True False False  True  True  True False  True\n",
      "  True  True  True False  True  True]\n",
      "Best score in generation 5 : [0.993006993006993]\n",
      "[ True False  True  True  True  True  True False False False  True  True\n",
      " False  True  True False  True False  True  True False  True False  True\n",
      "  True  True  True  True False  True]\n"
     ]
    }
   ],
   "source": [
    "logmodel = LogisticRegression(max_iter = 1000)\n",
    "X_train,X_test, Y_train, Y_test = split(data_bc,label_bc)\n",
    "chromo_df_bc,score_bc2=generations(data_bc,label_bc,size=80,n_feat=data_bc.shape[1],n_parents=64,mutation_rate=0.20,n_gen=5,\n",
    "                         X_train = X_train,X_test = X_test,Y_train = Y_train,Y_test = Y_test) "
   ]
  },
  {
   "cell_type": "code",
   "execution_count": 12,
   "id": "feb10708",
   "metadata": {
    "scrolled": false
   },
   "outputs": [
    {
     "name": "stdout",
     "output_type": "stream",
     "text": [
      "Best score in generation 1 : [0.993006993006993]\n",
      "[ True  True False  True  True  True  True False  True  True False  True\n",
      "  True  True False  True  True  True  True False False  True False  True\n",
      "  True  True False  True False  True]\n",
      "Best score in generation 2 : [0.993006993006993]\n",
      "[ True  True  True  True False  True  True False False False False  True\n",
      "  True  True  True  True  True  True  True  True False  True False False\n",
      "  True False  True  True False  True]\n",
      "Best score in generation 3 : [0.993006993006993]\n",
      "[ True  True  True  True  True False  True  True False  True  True  True\n",
      " False  True  True  True  True False  True False  True  True False False\n",
      "  True  True False  True False  True]\n",
      "Best score in generation 4 : [0.993006993006993]\n",
      "[ True  True False  True False False  True  True  True False False  True\n",
      " False False  True  True False False  True  True False False  True  True\n",
      "  True False  True False False  True]\n",
      "Best score in generation 5 : [0.993006993006993]\n",
      "[ True  True False  True  True False False False  True False False False\n",
      "  True  True  True False False  True  True False  True  True  True False\n",
      "  True  True  True  True  True  True]\n"
     ]
    }
   ],
   "source": [
    "logmodel = AdaBoostClassifier(random_state = 0)\n",
    "X_train,X_test, Y_train, Y_test = split(data_bc,label_bc)\n",
    "chromo_df_bc,score_bc3=generations(data_bc,label_bc,size=80,n_feat=data_bc.shape[1],n_parents=64,mutation_rate=0.20,n_gen=5,\n",
    "                         X_train = X_train,X_test = X_test,Y_train = Y_train,Y_test = Y_test) "
   ]
  },
  {
   "cell_type": "code",
   "execution_count": 13,
   "id": "0885f86c",
   "metadata": {
    "scrolled": false
   },
   "outputs": [
    {
     "name": "stdout",
     "output_type": "stream",
     "text": [
      "Best score in generation 1 : [0.958041958041958]\n",
      "[ True  True  True  True  True False  True False  True False False  True\n",
      "  True  True  True  True  True False  True  True False False  True False\n",
      "  True  True False  True  True  True]\n",
      "Best score in generation 2 : [0.965034965034965]\n",
      "[ True  True False  True  True  True  True False  True  True False  True\n",
      "  True  True False  True  True False False False False  True  True False\n",
      "  True  True  True  True  True  True]\n",
      "Best score in generation 3 : [0.965034965034965]\n",
      "[False False False  True False  True False False  True False False False\n",
      "  True  True False  True False  True  True  True False  True  True False\n",
      "  True  True  True  True False  True]\n",
      "Best score in generation 4 : [0.972027972027972]\n",
      "[False False  True  True  True False False False False  True False False\n",
      " False  True  True  True False False  True False False False  True False\n",
      "  True False  True  True  True False]\n",
      "Best score in generation 5 : [0.972027972027972]\n",
      "[False  True False False False False False False  True  True False  True\n",
      " False False False False  True False False  True  True False False  True\n",
      " False False  True  True  True  True]\n"
     ]
    }
   ],
   "source": [
    "logmodel = DecisionTreeClassifier(random_state=0)\n",
    "X_train,X_test, Y_train, Y_test = split(data_bc,label_bc)\n",
    "chromo_df_bc,score_bc4=generations(data_bc,label_bc,size=80,n_feat=data_bc.shape[1],n_parents=64,mutation_rate=0.20,n_gen=5,\n",
    "                         X_train = X_train,X_test = X_test,Y_train = Y_train,Y_test = Y_test) "
   ]
  },
  {
   "cell_type": "code",
   "execution_count": 14,
   "id": "463cea36",
   "metadata": {
    "scrolled": false
   },
   "outputs": [
    {
     "name": "stdout",
     "output_type": "stream",
     "text": [
      "Best score in generation 1 : [0.972027972027972]\n",
      "[ True  True  True False  True  True  True  True  True  True False  True\n",
      "  True  True  True False False  True  True False False  True  True  True\n",
      " False  True  True False  True False]\n",
      "Best score in generation 2 : [0.972027972027972]\n",
      "[ True False False  True  True  True False  True  True False  True False\n",
      "  True False  True  True  True False False  True  True  True False  True\n",
      " False  True False False  True False]\n",
      "Best score in generation 3 : [0.972027972027972]\n",
      "[ True False False  True False False False  True  True  True  True  True\n",
      "  True False False False False  True  True False  True False False  True\n",
      " False False False False False  True]\n",
      "Best score in generation 4 : [0.972027972027972]\n",
      "[ True  True  True  True  True  True  True  True False  True False False\n",
      " False  True False  True  True  True  True  True  True False False  True\n",
      "  True  True False False  True  True]\n",
      "Best score in generation 5 : [0.972027972027972]\n",
      "[ True False False False False False  True  True  True  True  True  True\n",
      "  True False False  True  True False False  True  True  True  True  True\n",
      "  True  True  True  True False False]\n"
     ]
    }
   ],
   "source": [
    "logmodel = KNeighborsClassifier()\n",
    "X_train,X_test, Y_train, Y_test = split(data_bc,label_bc)\n",
    "chromo_df_bc,score_bc5=generations(data_bc,label_bc,size=80,n_feat=data_bc.shape[1],n_parents=64,mutation_rate=0.20,n_gen=5,\n",
    "                         X_train = X_train,X_test = X_test,Y_train = Y_train,Y_test = Y_test) "
   ]
  },
  {
   "cell_type": "code",
   "execution_count": 15,
   "id": "e790eed6",
   "metadata": {
    "scrolled": true
   },
   "outputs": [
    {
     "name": "stdout",
     "output_type": "stream",
     "text": [
      "Best score in generation 1 : [0.993006993006993]\n",
      "[False False  True  True  True  True False  True  True  True  True False\n",
      "  True False  True  True  True  True  True False  True  True False  True\n",
      " False  True  True False  True  True]\n",
      "Best score in generation 2 : [0.986013986013986]\n",
      "[False  True  True False False  True  True  True False  True  True  True\n",
      " False  True False  True False False False  True False False False  True\n",
      "  True  True  True  True  True  True]\n",
      "Best score in generation 3 : [0.986013986013986]\n",
      "[ True  True False False  True  True  True False False False  True  True\n",
      "  True False  True False False  True  True False  True  True  True  True\n",
      " False  True  True  True False  True]\n",
      "Best score in generation 4 : [0.986013986013986]\n",
      "[ True False  True  True  True False  True False  True  True  True False\n",
      " False False  True False  True False False  True False False False  True\n",
      "  True  True  True False False False]\n",
      "Best score in generation 5 : [0.993006993006993]\n",
      "[False  True  True False False  True  True  True False  True False  True\n",
      "  True  True  True False False  True  True False  True  True  True  True\n",
      "  True  True False  True False False]\n"
     ]
    }
   ],
   "source": [
    "logmodel = GradientBoostingClassifier(random_state=0)\n",
    "X_train,X_test, Y_train, Y_test = split(data_bc,label_bc)\n",
    "chromo_df_bc,score_bc6=generations(data_bc,label_bc,size=80,n_feat=data_bc.shape[1],n_parents=64,mutation_rate=0.20,n_gen=5,\n",
    "                         X_train = X_train,X_test = X_test,Y_train = Y_train,Y_test = Y_test) "
   ]
  },
  {
   "cell_type": "code",
   "execution_count": 10,
   "id": "cf6874d8",
   "metadata": {
    "scrolled": true
   },
   "outputs": [
    {
     "name": "stdout",
     "output_type": "stream",
     "text": [
      "Best score in generation 1 : [0.965034965034965]\n",
      "[False  True False  True False  True False  True  True False  True  True\n",
      "  True  True  True False  True  True  True  True  True  True  True False\n",
      "  True  True False  True False  True]\n",
      "Best score in generation 2 : [0.965034965034965]\n",
      "[ True  True False  True False  True  True False  True  True  True  True\n",
      "  True False  True  True  True False  True  True False  True  True  True\n",
      " False  True  True False False False]\n",
      "Best score in generation 3 : [0.965034965034965]\n",
      "[False False False  True  True False False  True  True False False False\n",
      " False False  True False  True  True False False  True  True  True  True\n",
      "  True  True  True  True  True False]\n",
      "Best score in generation 4 : [0.965034965034965]\n",
      "[ True  True False False False  True  True  True  True False False  True\n",
      " False False False False False False  True  True False False False  True\n",
      "  True  True False  True  True  True]\n",
      "Best score in generation 5 : [0.965034965034965]\n",
      "[ True False False False  True False  True  True  True  True  True  True\n",
      " False False  True  True False False False False False  True  True  True\n",
      "  True False False  True False  True]\n"
     ]
    }
   ],
   "source": [
    "logmodel = svm.SVC(kernel='rbf')\n",
    "X_train,X_test, Y_train, Y_test = split(data_bc,label_bc)\n",
    "chromo_df_bc,score_bc7=generations(data_bc,label_bc,size=80,n_feat=data_bc.shape[1],n_parents=64,mutation_rate=0.20,n_gen=5,\n",
    "                         X_train = X_train,X_test = X_test,Y_train = Y_train,Y_test = Y_test) "
   ]
  },
  {
   "cell_type": "code",
   "execution_count": 11,
   "id": "d9e497d2",
   "metadata": {
    "scrolled": true
   },
   "outputs": [
    {
     "name": "stdout",
     "output_type": "stream",
     "text": [
      "Best score in generation 1 : [0.993006993006993]\n",
      "[ True  True False  True  True  True  True  True  True False  True False\n",
      "  True  True  True  True False False  True  True  True False False  True\n",
      "  True False  True False  True  True]\n",
      "Best score in generation 2 : [0.993006993006993]\n",
      "[ True  True  True False  True  True  True  True  True False False  True\n",
      "  True False  True  True False  True  True  True  True  True  True  True\n",
      " False  True False False False  True]\n",
      "Best score in generation 3 : [0.993006993006993]\n",
      "[ True  True  True False False False False  True  True False  True False\n",
      "  True False False False  True False  True  True  True False  True False\n",
      " False  True  True False False False]\n",
      "Best score in generation 4 : [0.993006993006993]\n",
      "[ True False False False False  True  True False False  True  True False\n",
      " False  True  True False  True  True  True  True False  True  True  True\n",
      "  True False False  True  True False]\n",
      "Best score in generation 5 : [0.993006993006993]\n",
      "[ True  True  True False  True  True False  True False False False False\n",
      " False  True  True  True False False  True False  True False  True  True\n",
      " False False  True False False False]\n"
     ]
    }
   ],
   "source": [
    "logmodel = svm.SVC(kernel='linear')\n",
    "X_train,X_test, Y_train, Y_test = split(data_bc,label_bc)\n",
    "chromo_df_bc,score_bc8=generations(data_bc,label_bc,size=80,n_feat=data_bc.shape[1],n_parents=64,mutation_rate=0.20,n_gen=5,\n",
    "                         X_train = X_train,X_test = X_test,Y_train = Y_train,Y_test = Y_test) "
   ]
  },
  {
   "cell_type": "code",
   "execution_count": 17,
   "id": "0114ca71",
   "metadata": {
    "scrolled": true
   },
   "outputs": [
    {
     "data": {
      "image/png": "[encoded data removed]",
      "text/plain": [
       "<Figure size 432x288 with 1 Axes>"
      ]
     },
     "metadata": {
      "needs_background": "light"
     },
     "output_type": "display_data"
    },
    {
     "data": {
      "image/png": "[encoded data removed]",
      "text/plain": [
       "<Figure size 432x288 with 1 Axes>"
      ]
     },
     "metadata": {
      "needs_background": "light"
     },
     "output_type": "display_data"
    },
    {
     "data": {
      "image/png": "[encoded data removed]",
      "text/plain": [
       "<Figure size 432x288 with 1 Axes>"
      ]
     },
     "metadata": {
      "needs_background": "light"
     },
     "output_type": "display_data"
    },
    {
     "data": {
      "image/png": "[encoded data removed]",
      "text/plain": [
       "<Figure size 432x288 with 1 Axes>"
      ]
     },
     "metadata": {
      "needs_background": "light"
     },
     "output_type": "display_data"
    },
    {
     "data": {
      "image/png": "[encoded data removed]",
      "text/plain": [
       "<Figure size 432x288 with 1 Axes>"
      ]
     },
     "metadata": {
      "needs_background": "light"
     },
     "output_type": "display_data"
    },
    {
     "data": {
      "image/png": "[encoded data removed]",
      "text/plain": [
       "<Figure size 432x288 with 1 Axes>"
      ]
     },
     "metadata": {
      "needs_background": "light"
     },
     "output_type": "display_data"
    },
    {
     "data": {
      "image/png": "[encoded data removed]",
      "text/plain": [
       "<Figure size 432x288 with 1 Axes>"
      ]
     },
     "metadata": {
      "needs_background": "light"
     },
     "output_type": "display_data"
    },
    {
     "data": {
      "image/png": "[encoded data removed]",
      "text/plain": [
       "<Figure size 432x288 with 1 Axes>"
      ]
     },
     "metadata": {
      "needs_background": "light"
     },
     "output_type": "display_data"
    }
   ],
   "source": [
    "p1=plot(score_bc1,0.9,1.0,c = \"Red\")\n",
    "p2=plot(score_bc2,0.9,1.0,c = \"Orange\")\n",
    "p3=plot(score_bc3,0.9,1.0,c = \"Blue\")\n",
    "p4=plot(score_bc4,0.9,1.0,c = \"Violet\")\n",
    "p5=plot(score_bc5,0.9,1.0,c= \"Yellow\")\n",
    "p6=plot(score_bc6,0.9,1.0,c = \"Pink\")\n",
    "p7=plot(score_bc7,0.9,1.0,c = \"Black\")\n",
    "p8=plot(score_bc8,0.9,1.0,c = \"Green\")\n",
    "p1\n",
    "p2\n",
    "p3\n",
    "p4\n",
    "p5\n",
    "p6\n",
    "p7\n",
    "p8"
   ]
  },
  {
   "cell_type": "code",
   "execution_count": 31,
   "id": "1c296a08",
   "metadata": {
    "scrolled": false
   },
   "outputs": [
    {
     "data": {
      "image/png": "[encoded data removed]",
      "text/plain": [
       "<Figure size 432x288 with 1 Axes>"
      ]
     },
     "metadata": {
      "needs_background": "light"
     },
     "output_type": "display_data"
    },
    {
     "data": {
      "text/plain": [
       "<Figure size 432x288 with 0 Axes>"
      ]
     },
     "metadata": {},
     "output_type": "display_data"
    }
   ],
   "source": [
    "plt.plot(score_bc1,'-o',label=\"RandomForest\")\n",
    "plt.plot(score_bc2,'-o',label=\"Linear\")\n",
    "plt.plot(score_bc3,'-o',label=\"AdaBoost\")\n",
    "plt.plot(score_bc4,'-o',label=\"Decision Tree\")\n",
    "plt.plot(score_bc5,'-o',label=\"KNeighbors\")\n",
    "#plt.plot(score_bc6,'-o',label=\"Gradient Boosting\")\n",
    "#plt.plot(score_bc7,'-o',label=\"Radial SVM\")\n",
    "#plt.plot(score_bc8,'-o',label=\"Linear SVM\")\n",
    "plt.xlim(-1, 8)\n",
    "plt.ylim(0.96,0.995)\n",
    "plt.xlabel(\"Generation\")\n",
    "plt.ylabel(\"Accuracy\")\n",
    "plt.legend()\n",
    "plt.show()\n",
    "plt.savefig('generation_accuracy.jpg')"
   ]
  }
 ],
 "metadata": {
  "kernelspec": {
   "display_name": "Python 3 (ipykernel)",
   "language": "python",
   "name": "python3"
  },
  "language_info": {
   "codemirror_mode": {
    "name": "ipython",
    "version": 3
   },
   "file_extension": ".py",
   "mimetype": "text/x-python",
   "name": "python",
   "nbconvert_exporter": "python",
   "pygments_lexer": "ipython3",
   "version": "3.9.12"
  }
 },
 "nbformat": 4,
 "nbformat_minor": 5
}
